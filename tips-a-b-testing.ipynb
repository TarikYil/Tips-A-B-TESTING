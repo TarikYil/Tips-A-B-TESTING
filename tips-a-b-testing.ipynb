{
 "cells": [
  {
   "cell_type": "markdown",
   "id": "acc892bb",
   "metadata": {
    "_cell_guid": "b1076dfc-b9ad-4769-8c92-a6c4dae69d19",
    "_uuid": "8f2839f25d086af736a60e9eeb907d3b93b6e0e5",
    "execution": {
     "iopub.execute_input": "2023-07-15T19:24:37.643399Z",
     "iopub.status.busy": "2023-07-15T19:24:37.642974Z",
     "iopub.status.idle": "2023-07-15T19:24:37.677796Z",
     "shell.execute_reply": "2023-07-15T19:24:37.676630Z",
     "shell.execute_reply.started": "2023-07-15T19:24:37.643350Z"
    },
    "papermill": {
     "duration": 0.006372,
     "end_time": "2023-07-15T22:31:58.674518",
     "exception": false,
     "start_time": "2023-07-15T22:31:58.668146",
     "status": "completed"
    },
    "tags": []
   },
   "source": [
    "<h1 style=\"background-color: #ffe4b5; color: #555555; padding: 20px; border-radius: 10px; text-align: center; text-shadow: 2px 2px 4px rgba(0, 0, 0, 0.3); font-family: 'Helvetica', sans-serif; font-size: 36px; letter-spacing: 2px; text-transform: uppercase;\">A/B TESTING</h1>"
   ]
  },
  {
   "cell_type": "markdown",
   "id": "f30b94a1",
   "metadata": {
    "papermill": {
     "duration": 0.005353,
     "end_time": "2023-07-15T22:31:58.685789",
     "exception": false,
     "start_time": "2023-07-15T22:31:58.680436",
     "status": "completed"
    },
    "tags": []
   },
   "source": [
    "**A method used to test an argument. The main purpose of group comparisons is to check whether possible differences have arisen by chance.**"
   ]
  },
  {
   "attachments": {
    "9ec1b332-1e24-4d56-88c1-274000c81489.png": {
     "image/png": "[encoded data removed]"
    }
   },
   "cell_type": "markdown",
   "id": "953595c7",
   "metadata": {
    "papermill": {
     "duration": 0.005444,
     "end_time": "2023-07-15T22:31:58.696903",
     "exception": false,
     "start_time": "2023-07-15T22:31:58.691459",
     "status": "completed"
    },
    "tags": []
   },
   "source": [
    "![image.png](attachment:9ec1b332-1e24-4d56-88c1-274000c81489.png)"
   ]
  },
  {
   "cell_type": "markdown",
   "id": "889c0a9a",
   "metadata": {
    "papermill": {
     "duration": 0.005332,
     "end_time": "2023-07-15T22:31:58.707916",
     "exception": false,
     "start_time": "2023-07-15T22:31:58.702584",
     "status": "completed"
    },
    "tags": []
   },
   "source": [
    "> *A/B testing allows us to compare the relationship between 2 groups. Comparisons are made between two groups on a ratio or mean. There are methods to be followed for these processes. Methods to Follow:*\n",
    "\n",
    "\n",
    "**Methods to be applied for two independent samples T-test:**\n",
    "\n",
    "1. Build the hypothesis.\n",
    "\n",
    "2. Assumption check:\n",
    "\n",
    "    Normality assumption.\n",
    "\n",
    "        H0= Normal distribution assumption is provided.\n",
    "\n",
    "        H1= Normal distribution assumption is not provided.\n",
    "\n",
    "\n",
    "\n",
    "\n",
    "> *Note: The **shapiro** method is used when making the assumption of normality. If **p_value < 0.05** is provided from this method, H0 is rejected. If H1 is provided, the nan_parametric test method **mannwhitneyu** test method is performed without examining variance homogeneity.*\n",
    "\n",
    "\n",
    "      Variance homogeneity.\n",
    "\n",
    "          H0= Homogeneity was achieved in the distribution of variance.\n",
    "\n",
    "          H1= Homogeneity could not be achieved in the distribution of variance.\n",
    "\n",
    "> *Note: When checking the homogeneous distribution of variance, the **levene** method is used. If **p_value < 0.05** is provided from this method, H0 is rejected. In cases where the homogeneous distribution of the variance is provided and the assumption of normal distribution is not provided, the nan_parametric test method **mannwhitneyu** test method is used. The parametric test method **T test** is used in cases where the homogeneous distribution of the variance cannot be achieved and the assumption of normal distribution is provided.*\n",
    "\n",
    "3. Comment:\n",
    "\n",
    "    The hypothesis result is decided according to the p_value obtained as a result of the parametric or non-parametric test."
   ]
  },
  {
   "cell_type": "markdown",
   "id": "b60df7de",
   "metadata": {
    "papermill": {
     "duration": 0.005512,
     "end_time": "2023-07-15T22:31:58.719125",
     "exception": false,
     "start_time": "2023-07-15T22:31:58.713613",
     "status": "completed"
    },
    "tags": []
   },
   "source": [
    "<h3 style=\"background-color: #daf862; color: #333223; padding: 12px; border: 2px solid #ff9800; border-radius: 8px; font-family: 'Tahoma', sans-serif; font-size: 18px; text-align: center; font-weight: bold;\">1.Build the hypothesis</h3>"
   ]
  },
  {
   "cell_type": "markdown",
   "id": "1b552a31",
   "metadata": {
    "papermill": {
     "duration": 0.005408,
     "end_time": "2023-07-15T22:31:58.730527",
     "exception": false,
     "start_time": "2023-07-15T22:31:58.725119",
     "status": "completed"
    },
    "tags": []
   },
   "source": [
    "In the first stage, our hypothesis is determined. In our example, it will be determined whether customers who smoke influence the tip.\n",
    "\n",
    "\n",
    "* H0 = There is no statistical relationship between smoking customers and tip.\n",
    "* H1 = There is a statistical relationship between the smoking customers and the tip."
   ]
  },
  {
   "cell_type": "markdown",
   "id": "9fc0c813",
   "metadata": {
    "papermill": {
     "duration": 0.005465,
     "end_time": "2023-07-15T22:31:58.741703",
     "exception": false,
     "start_time": "2023-07-15T22:31:58.736238",
     "status": "completed"
    },
    "tags": []
   },
   "source": [
    "<h3 style=\"background-color: \t#c1cdcd; color: #333223; padding: 12px; border: 2px solid #ff9800; border-radius: 8px; font-family: 'Tahoma', sans-serif; font-size: 18px; text-align: center; font-weight: bold;\">2.Assumption check</h3>"
   ]
  },
  {
   "cell_type": "markdown",
   "id": "89cb43b0",
   "metadata": {
    "papermill": {
     "duration": 0.00561,
     "end_time": "2023-07-15T22:31:58.752899",
     "exception": false,
     "start_time": "2023-07-15T22:31:58.747289",
     "status": "completed"
    },
    "tags": []
   },
   "source": [
    "* H0 = Normal distribution assumption is provided.\n",
    "* H1 = Normal distribution assumption not provided."
   ]
  },
  {
   "cell_type": "code",
   "execution_count": 1,
   "id": "2b1f76f7",
   "metadata": {
    "execution": {
     "iopub.execute_input": "2023-07-15T22:31:58.766655Z",
     "iopub.status.busy": "2023-07-15T22:31:58.765979Z",
     "iopub.status.idle": "2023-07-15T22:32:00.471729Z",
     "shell.execute_reply": "2023-07-15T22:32:00.470508Z"
    },
    "papermill": {
     "duration": 1.715999,
     "end_time": "2023-07-15T22:32:00.474528",
     "exception": false,
     "start_time": "2023-07-15T22:31:58.758529",
     "status": "completed"
    },
    "tags": []
   },
   "outputs": [
    {
     "name": "stderr",
     "output_type": "stream",
     "text": [
      "/opt/conda/lib/python3.10/site-packages/scipy/__init__.py:146: UserWarning: A NumPy version >=1.16.5 and <1.23.0 is required for this version of SciPy (detected version 1.23.5\n",
      "  warnings.warn(f\"A NumPy version >={np_minversion} and <{np_maxversion}\"\n"
     ]
    }
   ],
   "source": [
    "import itertools\n",
    "import numpy as np\n",
    "import pandas as pd\n",
    "import matplotlib.pyplot as plt\n",
    "import seaborn as sns\n",
    "# !pip install statsmodels\n",
    "import statsmodels.stats.api as sms\n",
    "from scipy.stats import ttest_1samp, shapiro, levene, ttest_ind, mannwhitneyu, \\\n",
    "    pearsonr, spearmanr, kendalltau, f_oneway, kruskal\n",
    "from statsmodels.stats.proportion import proportions_ztest"
   ]
  },
  {
   "cell_type": "code",
   "execution_count": 2,
   "id": "c2ebb4e7",
   "metadata": {
    "execution": {
     "iopub.execute_input": "2023-07-15T22:32:00.488135Z",
     "iopub.status.busy": "2023-07-15T22:32:00.487763Z",
     "iopub.status.idle": "2023-07-15T22:32:01.733286Z",
     "shell.execute_reply": "2023-07-15T22:32:01.732177Z"
    },
    "papermill": {
     "duration": 1.255617,
     "end_time": "2023-07-15T22:32:01.736097",
     "exception": false,
     "start_time": "2023-07-15T22:32:00.480480",
     "status": "completed"
    },
    "tags": []
   },
   "outputs": [],
   "source": [
    "df = sns.load_dataset(\"tips\")"
   ]
  },
  {
   "cell_type": "code",
   "execution_count": 3,
   "id": "279a64f5",
   "metadata": {
    "execution": {
     "iopub.execute_input": "2023-07-15T22:32:01.751069Z",
     "iopub.status.busy": "2023-07-15T22:32:01.750667Z",
     "iopub.status.idle": "2023-07-15T22:32:01.758315Z",
     "shell.execute_reply": "2023-07-15T22:32:01.757322Z"
    },
    "papermill": {
     "duration": 0.017068,
     "end_time": "2023-07-15T22:32:01.760551",
     "exception": false,
     "start_time": "2023-07-15T22:32:01.743483",
     "status": "completed"
    },
    "tags": []
   },
   "outputs": [
    {
     "name": "stdout",
     "output_type": "stream",
     "text": [
      "Test Stat = 0.9367, p-value = 0.0002\n"
     ]
    }
   ],
   "source": [
    "test_stat, pvalue = shapiro(df.loc[df[\"smoker\"] == \"Yes\", \"total_bill\"])\n",
    "print('Test Stat = %.4f, p-value = %.4f' % (test_stat, pvalue))"
   ]
  },
  {
   "cell_type": "markdown",
   "id": "d8a39ac6",
   "metadata": {
    "papermill": {
     "duration": 0.005513,
     "end_time": "2023-07-15T22:32:01.771890",
     "exception": false,
     "start_time": "2023-07-15T22:32:01.766377",
     "status": "completed"
    },
    "tags": []
   },
   "source": [
    "*H0 is rejected because the p value is less than 0.005 in the above procedure. Therefore, since there is no normal distribution, non-parametric test is applied without examining the homogeneity of the variance.*"
   ]
  },
  {
   "cell_type": "markdown",
   "id": "9b2414c7",
   "metadata": {
    "papermill": {
     "duration": 0.005578,
     "end_time": "2023-07-15T22:32:01.783380",
     "exception": false,
     "start_time": "2023-07-15T22:32:01.777802",
     "status": "completed"
    },
    "tags": []
   },
   "source": [
    "<h3 style=\"background-color: \t#ff8247; color: #111111; padding: 12px; border: 2px solid #ff9800; border-radius: 8px; font-family: 'Tahoma', sans-serif; font-size: 18px; text-align: center; font-weight: bold;\">3.Comment</h3>"
   ]
  },
  {
   "cell_type": "markdown",
   "id": "798561c2",
   "metadata": {
    "papermill": {
     "duration": 0.005576,
     "end_time": "2023-07-15T22:32:01.794756",
     "exception": false,
     "start_time": "2023-07-15T22:32:01.789180",
     "status": "completed"
    },
    "tags": []
   },
   "source": [
    "*When the assumptions were examined, it was seen that there was no homogeneous distribution. For this reason, the nan parameter method mannwhitneyu test method was used.*"
   ]
  },
  {
   "cell_type": "code",
   "execution_count": 4,
   "id": "34ac7901",
   "metadata": {
    "execution": {
     "iopub.execute_input": "2023-07-15T22:32:01.808620Z",
     "iopub.status.busy": "2023-07-15T22:32:01.808194Z",
     "iopub.status.idle": "2023-07-15T22:32:01.821139Z",
     "shell.execute_reply": "2023-07-15T22:32:01.819716Z"
    },
    "papermill": {
     "duration": 0.022639,
     "end_time": "2023-07-15T22:32:01.823404",
     "exception": false,
     "start_time": "2023-07-15T22:32:01.800765",
     "status": "completed"
    },
    "tags": []
   },
   "outputs": [
    {
     "name": "stdout",
     "output_type": "stream",
     "text": [
      "Test Stat = 7531.5000, p-value = 0.3413\n"
     ]
    }
   ],
   "source": [
    "test_stat, pvalue = mannwhitneyu(df.loc[df[\"smoker\"] == \"Yes\", \"total_bill\"],\n",
    "                                 df.loc[df[\"smoker\"] == \"No\", \"total_bill\"])\n",
    "\n",
    "print('Test Stat = %.4f, p-value = %.4f' % (test_stat, pvalue))"
   ]
  },
  {
   "cell_type": "markdown",
   "id": "9604f865",
   "metadata": {
    "papermill": {
     "duration": 0.00583,
     "end_time": "2023-07-15T22:32:01.835349",
     "exception": false,
     "start_time": "2023-07-15T22:32:01.829519",
     "status": "completed"
    },
    "tags": []
   },
   "source": [
    "*H0 cannot be rejected because the p value is greater than 0.005 in the above test method.*"
   ]
  },
  {
   "cell_type": "markdown",
   "id": "a737af9e",
   "metadata": {
    "papermill": {
     "duration": 0.005691,
     "end_time": "2023-07-15T22:32:01.847080",
     "exception": false,
     "start_time": "2023-07-15T22:32:01.841389",
     "status": "completed"
    },
    "tags": []
   },
   "source": [
    "> **As a result, our H0 hypothesis was found as \"There is no statistical relationship between smokers and tipping\". We understand that smokers have no statistical effect on tipping.**"
   ]
  },
  {
   "cell_type": "markdown",
   "id": "530c14e9",
   "metadata": {
    "papermill": {
     "duration": 0.005598,
     "end_time": "2023-07-15T22:32:01.858670",
     "exception": false,
     "start_time": "2023-07-15T22:32:01.853072",
     "status": "completed"
    },
    "tags": []
   },
   "source": [
    "> *NOTE: If homogeneity is not observed in the normal distribution and variance in the assumption check, the t_test will be performed as follows and only equal_var=False will be made.*\n",
    "\n",
    "\n",
    "\n",
    "> *NOTE: The situation mentioned in the above note will only be valid when there is a normal distribution. If there is no normal distribution already, t_test cannot be applied and non-parametric tests are applied.*"
   ]
  },
  {
   "cell_type": "code",
   "execution_count": 5,
   "id": "e81b28ca",
   "metadata": {
    "execution": {
     "iopub.execute_input": "2023-07-15T22:32:01.874286Z",
     "iopub.status.busy": "2023-07-15T22:32:01.873276Z",
     "iopub.status.idle": "2023-07-15T22:32:01.882041Z",
     "shell.execute_reply": "2023-07-15T22:32:01.881239Z"
    },
    "papermill": {
     "duration": 0.018399,
     "end_time": "2023-07-15T22:32:01.883983",
     "exception": false,
     "start_time": "2023-07-15T22:32:01.865584",
     "status": "completed"
    },
    "tags": []
   },
   "outputs": [],
   "source": [
    "test_stat, pvalue = ttest_ind(df.loc[df[\"smoker\"] == \"Yes\", \"total_bill\"],\n",
    "                              df.loc[df[\"smoker\"] == \"No\", \"total_bill\"],\n",
    "                              equal_var=False)"
   ]
  }
 ],
 "metadata": {
  "kernelspec": {
   "display_name": "Python 3",
   "language": "python",
   "name": "python3"
  },
  "language_info": {
   "codemirror_mode": {
    "name": "ipython",
    "version": 3
   },
   "file_extension": ".py",
   "mimetype": "text/x-python",
   "name": "python",
   "nbconvert_exporter": "python",
   "pygments_lexer": "ipython3",
   "version": "3.10.12"
  },
  "papermill": {
   "default_parameters": {},
   "duration": 14.925003,
   "end_time": "2023-07-15T22:32:02.812113",
   "environment_variables": {},
   "exception": null,
   "input_path": "__notebook__.ipynb",
   "output_path": "__notebook__.ipynb",
   "parameters": {},
   "start_time": "2023-07-15T22:31:47.887110",
   "version": "2.4.0"
  }
 },
 "nbformat": 4,
 "nbformat_minor": 5
}
